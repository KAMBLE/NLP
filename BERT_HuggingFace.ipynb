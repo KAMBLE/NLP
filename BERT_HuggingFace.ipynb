{
  "nbformat": 4,
  "nbformat_minor": 0,
  "metadata": {
    "colab": {
      "name": "BERT HuggingFace.ipynb",
      "provenance": [],
      "collapsed_sections": [],
      "toc_visible": true,
      "authorship_tag": "ABX9TyM0LRNOAx2vcfrvvMN5g8e0",
      "include_colab_link": true
    },
    "kernelspec": {
      "name": "python3",
      "display_name": "Python 3"
    },
    "accelerator": "GPU",
    "widgets": {
      "application/vnd.jupyter.widget-state+json": {
        "63a7e693b3544edab88d7e9c41ef882c": {
          "model_module": "@jupyter-widgets/controls",
          "model_name": "HBoxModel",
          "state": {
            "_view_name": "HBoxView",
            "_dom_classes": [],
            "_model_name": "HBoxModel",
            "_view_module": "@jupyter-widgets/controls",
            "_model_module_version": "1.5.0",
            "_view_count": null,
            "_view_module_version": "1.5.0",
            "box_style": "",
            "layout": "IPY_MODEL_07297c12749546e698ebbdde996a51e3",
            "_model_module": "@jupyter-widgets/controls",
            "children": [
              "IPY_MODEL_46e95d13574f4d50a68e81f3a98bbdf3",
              "IPY_MODEL_cb40854e6bdc438ab10b3adf6f8c72f2"
            ]
          }
        },
        "07297c12749546e698ebbdde996a51e3": {
          "model_module": "@jupyter-widgets/base",
          "model_name": "LayoutModel",
          "state": {
            "_view_name": "LayoutView",
            "grid_template_rows": null,
            "right": null,
            "justify_content": null,
            "_view_module": "@jupyter-widgets/base",
            "overflow": null,
            "_model_module_version": "1.2.0",
            "_view_count": null,
            "flex_flow": null,
            "width": null,
            "min_width": null,
            "border": null,
            "align_items": null,
            "bottom": null,
            "_model_module": "@jupyter-widgets/base",
            "top": null,
            "grid_column": null,
            "overflow_y": null,
            "overflow_x": null,
            "grid_auto_flow": null,
            "grid_area": null,
            "grid_template_columns": null,
            "flex": null,
            "_model_name": "LayoutModel",
            "justify_items": null,
            "grid_row": null,
            "max_height": null,
            "align_content": null,
            "visibility": null,
            "align_self": null,
            "height": null,
            "min_height": null,
            "padding": null,
            "grid_auto_rows": null,
            "grid_gap": null,
            "max_width": null,
            "order": null,
            "_view_module_version": "1.2.0",
            "grid_template_areas": null,
            "object_position": null,
            "object_fit": null,
            "grid_auto_columns": null,
            "margin": null,
            "display": null,
            "left": null
          }
        },
        "46e95d13574f4d50a68e81f3a98bbdf3": {
          "model_module": "@jupyter-widgets/controls",
          "model_name": "FloatProgressModel",
          "state": {
            "_view_name": "ProgressView",
            "style": "IPY_MODEL_228aa02321c44aeaa6893a459c5bdb89",
            "_dom_classes": [],
            "description": "Downloading: 100%",
            "_model_name": "FloatProgressModel",
            "bar_style": "success",
            "max": 433,
            "_view_module": "@jupyter-widgets/controls",
            "_model_module_version": "1.5.0",
            "value": 433,
            "_view_count": null,
            "_view_module_version": "1.5.0",
            "orientation": "horizontal",
            "min": 0,
            "description_tooltip": null,
            "_model_module": "@jupyter-widgets/controls",
            "layout": "IPY_MODEL_3c551f632cfc408aa1f3e7abc4970dea"
          }
        },
        "cb40854e6bdc438ab10b3adf6f8c72f2": {
          "model_module": "@jupyter-widgets/controls",
          "model_name": "HTMLModel",
          "state": {
            "_view_name": "HTMLView",
            "style": "IPY_MODEL_c2c26dd0a6de49399439d99f9275e8e6",
            "_dom_classes": [],
            "description": "",
            "_model_name": "HTMLModel",
            "placeholder": "​",
            "_view_module": "@jupyter-widgets/controls",
            "_model_module_version": "1.5.0",
            "value": " 433/433 [00:22&lt;00:00, 19.2B/s]",
            "_view_count": null,
            "_view_module_version": "1.5.0",
            "description_tooltip": null,
            "_model_module": "@jupyter-widgets/controls",
            "layout": "IPY_MODEL_3eda9ab8ec614cdb8723fa98967b4a19"
          }
        },
        "228aa02321c44aeaa6893a459c5bdb89": {
          "model_module": "@jupyter-widgets/controls",
          "model_name": "ProgressStyleModel",
          "state": {
            "_view_name": "StyleView",
            "_model_name": "ProgressStyleModel",
            "description_width": "initial",
            "_view_module": "@jupyter-widgets/base",
            "_model_module_version": "1.5.0",
            "_view_count": null,
            "_view_module_version": "1.2.0",
            "bar_color": null,
            "_model_module": "@jupyter-widgets/controls"
          }
        },
        "3c551f632cfc408aa1f3e7abc4970dea": {
          "model_module": "@jupyter-widgets/base",
          "model_name": "LayoutModel",
          "state": {
            "_view_name": "LayoutView",
            "grid_template_rows": null,
            "right": null,
            "justify_content": null,
            "_view_module": "@jupyter-widgets/base",
            "overflow": null,
            "_model_module_version": "1.2.0",
            "_view_count": null,
            "flex_flow": null,
            "width": null,
            "min_width": null,
            "border": null,
            "align_items": null,
            "bottom": null,
            "_model_module": "@jupyter-widgets/base",
            "top": null,
            "grid_column": null,
            "overflow_y": null,
            "overflow_x": null,
            "grid_auto_flow": null,
            "grid_area": null,
            "grid_template_columns": null,
            "flex": null,
            "_model_name": "LayoutModel",
            "justify_items": null,
            "grid_row": null,
            "max_height": null,
            "align_content": null,
            "visibility": null,
            "align_self": null,
            "height": null,
            "min_height": null,
            "padding": null,
            "grid_auto_rows": null,
            "grid_gap": null,
            "max_width": null,
            "order": null,
            "_view_module_version": "1.2.0",
            "grid_template_areas": null,
            "object_position": null,
            "object_fit": null,
            "grid_auto_columns": null,
            "margin": null,
            "display": null,
            "left": null
          }
        },
        "c2c26dd0a6de49399439d99f9275e8e6": {
          "model_module": "@jupyter-widgets/controls",
          "model_name": "DescriptionStyleModel",
          "state": {
            "_view_name": "StyleView",
            "_model_name": "DescriptionStyleModel",
            "description_width": "",
            "_view_module": "@jupyter-widgets/base",
            "_model_module_version": "1.5.0",
            "_view_count": null,
            "_view_module_version": "1.2.0",
            "_model_module": "@jupyter-widgets/controls"
          }
        },
        "3eda9ab8ec614cdb8723fa98967b4a19": {
          "model_module": "@jupyter-widgets/base",
          "model_name": "LayoutModel",
          "state": {
            "_view_name": "LayoutView",
            "grid_template_rows": null,
            "right": null,
            "justify_content": null,
            "_view_module": "@jupyter-widgets/base",
            "overflow": null,
            "_model_module_version": "1.2.0",
            "_view_count": null,
            "flex_flow": null,
            "width": null,
            "min_width": null,
            "border": null,
            "align_items": null,
            "bottom": null,
            "_model_module": "@jupyter-widgets/base",
            "top": null,
            "grid_column": null,
            "overflow_y": null,
            "overflow_x": null,
            "grid_auto_flow": null,
            "grid_area": null,
            "grid_template_columns": null,
            "flex": null,
            "_model_name": "LayoutModel",
            "justify_items": null,
            "grid_row": null,
            "max_height": null,
            "align_content": null,
            "visibility": null,
            "align_self": null,
            "height": null,
            "min_height": null,
            "padding": null,
            "grid_auto_rows": null,
            "grid_gap": null,
            "max_width": null,
            "order": null,
            "_view_module_version": "1.2.0",
            "grid_template_areas": null,
            "object_position": null,
            "object_fit": null,
            "grid_auto_columns": null,
            "margin": null,
            "display": null,
            "left": null
          }
        },
        "d1658873b08c422088eede477726359c": {
          "model_module": "@jupyter-widgets/controls",
          "model_name": "HBoxModel",
          "state": {
            "_view_name": "HBoxView",
            "_dom_classes": [],
            "_model_name": "HBoxModel",
            "_view_module": "@jupyter-widgets/controls",
            "_model_module_version": "1.5.0",
            "_view_count": null,
            "_view_module_version": "1.5.0",
            "box_style": "",
            "layout": "IPY_MODEL_81f33ac1e700429293c1764d72094813",
            "_model_module": "@jupyter-widgets/controls",
            "children": [
              "IPY_MODEL_75792cd361af443193d9bf883fe5e5de",
              "IPY_MODEL_0d3473568efd4957a1fb9a987fb090b1"
            ]
          }
        },
        "81f33ac1e700429293c1764d72094813": {
          "model_module": "@jupyter-widgets/base",
          "model_name": "LayoutModel",
          "state": {
            "_view_name": "LayoutView",
            "grid_template_rows": null,
            "right": null,
            "justify_content": null,
            "_view_module": "@jupyter-widgets/base",
            "overflow": null,
            "_model_module_version": "1.2.0",
            "_view_count": null,
            "flex_flow": null,
            "width": null,
            "min_width": null,
            "border": null,
            "align_items": null,
            "bottom": null,
            "_model_module": "@jupyter-widgets/base",
            "top": null,
            "grid_column": null,
            "overflow_y": null,
            "overflow_x": null,
            "grid_auto_flow": null,
            "grid_area": null,
            "grid_template_columns": null,
            "flex": null,
            "_model_name": "LayoutModel",
            "justify_items": null,
            "grid_row": null,
            "max_height": null,
            "align_content": null,
            "visibility": null,
            "align_self": null,
            "height": null,
            "min_height": null,
            "padding": null,
            "grid_auto_rows": null,
            "grid_gap": null,
            "max_width": null,
            "order": null,
            "_view_module_version": "1.2.0",
            "grid_template_areas": null,
            "object_position": null,
            "object_fit": null,
            "grid_auto_columns": null,
            "margin": null,
            "display": null,
            "left": null
          }
        },
        "75792cd361af443193d9bf883fe5e5de": {
          "model_module": "@jupyter-widgets/controls",
          "model_name": "FloatProgressModel",
          "state": {
            "_view_name": "ProgressView",
            "style": "IPY_MODEL_7c31485dd5ec4a368529a91d56ccb03d",
            "_dom_classes": [],
            "description": "Downloading: 100%",
            "_model_name": "FloatProgressModel",
            "bar_style": "success",
            "max": 526681800,
            "_view_module": "@jupyter-widgets/controls",
            "_model_module_version": "1.5.0",
            "value": 526681800,
            "_view_count": null,
            "_view_module_version": "1.5.0",
            "orientation": "horizontal",
            "min": 0,
            "description_tooltip": null,
            "_model_module": "@jupyter-widgets/controls",
            "layout": "IPY_MODEL_f78dfae381d24265a0bc9ad10b32e129"
          }
        },
        "0d3473568efd4957a1fb9a987fb090b1": {
          "model_module": "@jupyter-widgets/controls",
          "model_name": "HTMLModel",
          "state": {
            "_view_name": "HTMLView",
            "style": "IPY_MODEL_d5910aced6f94f5d9b757b0ea28da152",
            "_dom_classes": [],
            "description": "",
            "_model_name": "HTMLModel",
            "placeholder": "​",
            "_view_module": "@jupyter-widgets/controls",
            "_model_module_version": "1.5.0",
            "value": " 527M/527M [00:22&lt;00:00, 23.8MB/s]",
            "_view_count": null,
            "_view_module_version": "1.5.0",
            "description_tooltip": null,
            "_model_module": "@jupyter-widgets/controls",
            "layout": "IPY_MODEL_1341279ed0804fdbac9e603aa1eec731"
          }
        },
        "7c31485dd5ec4a368529a91d56ccb03d": {
          "model_module": "@jupyter-widgets/controls",
          "model_name": "ProgressStyleModel",
          "state": {
            "_view_name": "StyleView",
            "_model_name": "ProgressStyleModel",
            "description_width": "initial",
            "_view_module": "@jupyter-widgets/base",
            "_model_module_version": "1.5.0",
            "_view_count": null,
            "_view_module_version": "1.2.0",
            "bar_color": null,
            "_model_module": "@jupyter-widgets/controls"
          }
        },
        "f78dfae381d24265a0bc9ad10b32e129": {
          "model_module": "@jupyter-widgets/base",
          "model_name": "LayoutModel",
          "state": {
            "_view_name": "LayoutView",
            "grid_template_rows": null,
            "right": null,
            "justify_content": null,
            "_view_module": "@jupyter-widgets/base",
            "overflow": null,
            "_model_module_version": "1.2.0",
            "_view_count": null,
            "flex_flow": null,
            "width": null,
            "min_width": null,
            "border": null,
            "align_items": null,
            "bottom": null,
            "_model_module": "@jupyter-widgets/base",
            "top": null,
            "grid_column": null,
            "overflow_y": null,
            "overflow_x": null,
            "grid_auto_flow": null,
            "grid_area": null,
            "grid_template_columns": null,
            "flex": null,
            "_model_name": "LayoutModel",
            "justify_items": null,
            "grid_row": null,
            "max_height": null,
            "align_content": null,
            "visibility": null,
            "align_self": null,
            "height": null,
            "min_height": null,
            "padding": null,
            "grid_auto_rows": null,
            "grid_gap": null,
            "max_width": null,
            "order": null,
            "_view_module_version": "1.2.0",
            "grid_template_areas": null,
            "object_position": null,
            "object_fit": null,
            "grid_auto_columns": null,
            "margin": null,
            "display": null,
            "left": null
          }
        },
        "d5910aced6f94f5d9b757b0ea28da152": {
          "model_module": "@jupyter-widgets/controls",
          "model_name": "DescriptionStyleModel",
          "state": {
            "_view_name": "StyleView",
            "_model_name": "DescriptionStyleModel",
            "description_width": "",
            "_view_module": "@jupyter-widgets/base",
            "_model_module_version": "1.5.0",
            "_view_count": null,
            "_view_module_version": "1.2.0",
            "_model_module": "@jupyter-widgets/controls"
          }
        },
        "1341279ed0804fdbac9e603aa1eec731": {
          "model_module": "@jupyter-widgets/base",
          "model_name": "LayoutModel",
          "state": {
            "_view_name": "LayoutView",
            "grid_template_rows": null,
            "right": null,
            "justify_content": null,
            "_view_module": "@jupyter-widgets/base",
            "overflow": null,
            "_model_module_version": "1.2.0",
            "_view_count": null,
            "flex_flow": null,
            "width": null,
            "min_width": null,
            "border": null,
            "align_items": null,
            "bottom": null,
            "_model_module": "@jupyter-widgets/base",
            "top": null,
            "grid_column": null,
            "overflow_y": null,
            "overflow_x": null,
            "grid_auto_flow": null,
            "grid_area": null,
            "grid_template_columns": null,
            "flex": null,
            "_model_name": "LayoutModel",
            "justify_items": null,
            "grid_row": null,
            "max_height": null,
            "align_content": null,
            "visibility": null,
            "align_self": null,
            "height": null,
            "min_height": null,
            "padding": null,
            "grid_auto_rows": null,
            "grid_gap": null,
            "max_width": null,
            "order": null,
            "_view_module_version": "1.2.0",
            "grid_template_areas": null,
            "object_position": null,
            "object_fit": null,
            "grid_auto_columns": null,
            "margin": null,
            "display": null,
            "left": null
          }
        },
        "ad39ae2a9b104143886a27aa5323dbcb": {
          "model_module": "@jupyter-widgets/controls",
          "model_name": "HBoxModel",
          "state": {
            "_view_name": "HBoxView",
            "_dom_classes": [],
            "_model_name": "HBoxModel",
            "_view_module": "@jupyter-widgets/controls",
            "_model_module_version": "1.5.0",
            "_view_count": null,
            "_view_module_version": "1.5.0",
            "box_style": "",
            "layout": "IPY_MODEL_d81c51ce09b5495eacd53d4b6308be64",
            "_model_module": "@jupyter-widgets/controls",
            "children": [
              "IPY_MODEL_2fe093ac27c94871bfcef28056ae3b64",
              "IPY_MODEL_263265decb2c4f5683a9630fd0d6324b"
            ]
          }
        },
        "d81c51ce09b5495eacd53d4b6308be64": {
          "model_module": "@jupyter-widgets/base",
          "model_name": "LayoutModel",
          "state": {
            "_view_name": "LayoutView",
            "grid_template_rows": null,
            "right": null,
            "justify_content": null,
            "_view_module": "@jupyter-widgets/base",
            "overflow": null,
            "_model_module_version": "1.2.0",
            "_view_count": null,
            "flex_flow": null,
            "width": null,
            "min_width": null,
            "border": null,
            "align_items": null,
            "bottom": null,
            "_model_module": "@jupyter-widgets/base",
            "top": null,
            "grid_column": null,
            "overflow_y": null,
            "overflow_x": null,
            "grid_auto_flow": null,
            "grid_area": null,
            "grid_template_columns": null,
            "flex": null,
            "_model_name": "LayoutModel",
            "justify_items": null,
            "grid_row": null,
            "max_height": null,
            "align_content": null,
            "visibility": null,
            "align_self": null,
            "height": null,
            "min_height": null,
            "padding": null,
            "grid_auto_rows": null,
            "grid_gap": null,
            "max_width": null,
            "order": null,
            "_view_module_version": "1.2.0",
            "grid_template_areas": null,
            "object_position": null,
            "object_fit": null,
            "grid_auto_columns": null,
            "margin": null,
            "display": null,
            "left": null
          }
        },
        "2fe093ac27c94871bfcef28056ae3b64": {
          "model_module": "@jupyter-widgets/controls",
          "model_name": "FloatProgressModel",
          "state": {
            "_view_name": "ProgressView",
            "style": "IPY_MODEL_4bf467cf5f8f447fae1021f98c3704be",
            "_dom_classes": [],
            "description": "Downloading: 100%",
            "_model_name": "FloatProgressModel",
            "bar_style": "success",
            "max": 213450,
            "_view_module": "@jupyter-widgets/controls",
            "_model_module_version": "1.5.0",
            "value": 213450,
            "_view_count": null,
            "_view_module_version": "1.5.0",
            "orientation": "horizontal",
            "min": 0,
            "description_tooltip": null,
            "_model_module": "@jupyter-widgets/controls",
            "layout": "IPY_MODEL_6d0b0e6d7d9c42808480b5a39a24ffe4"
          }
        },
        "263265decb2c4f5683a9630fd0d6324b": {
          "model_module": "@jupyter-widgets/controls",
          "model_name": "HTMLModel",
          "state": {
            "_view_name": "HTMLView",
            "style": "IPY_MODEL_3fb783ce724f4294a4585e0a8a845392",
            "_dom_classes": [],
            "description": "",
            "_model_name": "HTMLModel",
            "placeholder": "​",
            "_view_module": "@jupyter-widgets/controls",
            "_model_module_version": "1.5.0",
            "value": " 213k/213k [00:00&lt;00:00, 700kB/s]",
            "_view_count": null,
            "_view_module_version": "1.5.0",
            "description_tooltip": null,
            "_model_module": "@jupyter-widgets/controls",
            "layout": "IPY_MODEL_ea5ccd329b5b4b4db1066077aed5f9d9"
          }
        },
        "4bf467cf5f8f447fae1021f98c3704be": {
          "model_module": "@jupyter-widgets/controls",
          "model_name": "ProgressStyleModel",
          "state": {
            "_view_name": "StyleView",
            "_model_name": "ProgressStyleModel",
            "description_width": "initial",
            "_view_module": "@jupyter-widgets/base",
            "_model_module_version": "1.5.0",
            "_view_count": null,
            "_view_module_version": "1.2.0",
            "bar_color": null,
            "_model_module": "@jupyter-widgets/controls"
          }
        },
        "6d0b0e6d7d9c42808480b5a39a24ffe4": {
          "model_module": "@jupyter-widgets/base",
          "model_name": "LayoutModel",
          "state": {
            "_view_name": "LayoutView",
            "grid_template_rows": null,
            "right": null,
            "justify_content": null,
            "_view_module": "@jupyter-widgets/base",
            "overflow": null,
            "_model_module_version": "1.2.0",
            "_view_count": null,
            "flex_flow": null,
            "width": null,
            "min_width": null,
            "border": null,
            "align_items": null,
            "bottom": null,
            "_model_module": "@jupyter-widgets/base",
            "top": null,
            "grid_column": null,
            "overflow_y": null,
            "overflow_x": null,
            "grid_auto_flow": null,
            "grid_area": null,
            "grid_template_columns": null,
            "flex": null,
            "_model_name": "LayoutModel",
            "justify_items": null,
            "grid_row": null,
            "max_height": null,
            "align_content": null,
            "visibility": null,
            "align_self": null,
            "height": null,
            "min_height": null,
            "padding": null,
            "grid_auto_rows": null,
            "grid_gap": null,
            "max_width": null,
            "order": null,
            "_view_module_version": "1.2.0",
            "grid_template_areas": null,
            "object_position": null,
            "object_fit": null,
            "grid_auto_columns": null,
            "margin": null,
            "display": null,
            "left": null
          }
        },
        "3fb783ce724f4294a4585e0a8a845392": {
          "model_module": "@jupyter-widgets/controls",
          "model_name": "DescriptionStyleModel",
          "state": {
            "_view_name": "StyleView",
            "_model_name": "DescriptionStyleModel",
            "description_width": "",
            "_view_module": "@jupyter-widgets/base",
            "_model_module_version": "1.5.0",
            "_view_count": null,
            "_view_module_version": "1.2.0",
            "_model_module": "@jupyter-widgets/controls"
          }
        },
        "ea5ccd329b5b4b4db1066077aed5f9d9": {
          "model_module": "@jupyter-widgets/base",
          "model_name": "LayoutModel",
          "state": {
            "_view_name": "LayoutView",
            "grid_template_rows": null,
            "right": null,
            "justify_content": null,
            "_view_module": "@jupyter-widgets/base",
            "overflow": null,
            "_model_module_version": "1.2.0",
            "_view_count": null,
            "flex_flow": null,
            "width": null,
            "min_width": null,
            "border": null,
            "align_items": null,
            "bottom": null,
            "_model_module": "@jupyter-widgets/base",
            "top": null,
            "grid_column": null,
            "overflow_y": null,
            "overflow_x": null,
            "grid_auto_flow": null,
            "grid_area": null,
            "grid_template_columns": null,
            "flex": null,
            "_model_name": "LayoutModel",
            "justify_items": null,
            "grid_row": null,
            "max_height": null,
            "align_content": null,
            "visibility": null,
            "align_self": null,
            "height": null,
            "min_height": null,
            "padding": null,
            "grid_auto_rows": null,
            "grid_gap": null,
            "max_width": null,
            "order": null,
            "_view_module_version": "1.2.0",
            "grid_template_areas": null,
            "object_position": null,
            "object_fit": null,
            "grid_auto_columns": null,
            "margin": null,
            "display": null,
            "left": null
          }
        }
      }
    }
  },
  "cells": [
    {
      "cell_type": "markdown",
      "metadata": {
        "id": "view-in-github",
        "colab_type": "text"
      },
      "source": [
        "<a href=\"https://colab.research.google.com/github/KAMBLE/NLP/blob/main/BERT_HuggingFace.ipynb\" target=\"_parent\"><img src=\"https://colab.research.google.com/assets/colab-badge.svg\" alt=\"Open In Colab\"/></a>"
      ]
    },
    {
      "cell_type": "markdown",
      "metadata": {
        "id": "kaEFNGISvqF9"
      },
      "source": [
        "#**BERT Sentiment Analysis using Tensorflow & huggingFace API**\n",
        "\n",
        "\n",
        "\n",
        "\n"
      ]
    },
    {
      "cell_type": "markdown",
      "metadata": {
        "id": "FH-g94qH5AHE"
      },
      "source": [
        "##**1.   Text Preprocessing**"
      ]
    },
    {
      "cell_type": "code",
      "metadata": {
        "id": "suQYLGGB2YIO"
      },
      "source": [
        "import tensorflow as tf\n",
        "import pandas as pd\n",
        "import numpy as np\n",
        "\n",
        "import re\n",
        "from tensorflow.python.lib.io.tf_record import TFRecordWriter"
      ],
      "execution_count": null,
      "outputs": []
    },
    {
      "cell_type": "code",
      "metadata": {
        "id": "ZMQBxYyi21AV"
      },
      "source": [
        "data = pd.read_csv('/content/stock_data.csv')#,encoding='latin1')"
      ],
      "execution_count": null,
      "outputs": []
    },
    {
      "cell_type": "code",
      "metadata": {
        "id": "2kKB6zxDfJwq"
      },
      "source": [
        "#set column width to see full text \n",
        "pd.set_option('display.max_colwidth', -1)"
      ],
      "execution_count": null,
      "outputs": []
    },
    {
      "cell_type": "code",
      "metadata": {
        "id": "842wLw7F3QJh",
        "outputId": "a7cb01f2-7a90-4559-e3b2-d2a8fda173de",
        "colab": {
          "base_uri": "https://localhost:8080/",
          "height": 139
        }
      },
      "source": [
        "data['Text'][4980:4985]"
      ],
      "execution_count": null,
      "outputs": [
        {
          "output_type": "execute_result",
          "data": {
            "text/plain": [
              "4980    A surge of Saudi crude is expected to worsen a U.S. supply glut as drillers and refiners cut output and storage spaâ€¦ https://t.co/44Ndex9Qpz  \n",
              "4981    RT @JChengWSJ: Coronavirus is making U.S.-China decoupling more likely, U.S. companies in China say, disrupting supply chains and strainingâ€¦  \n",
              "4982    RT @kosakunarioka: Indiaâ€™s RBI Takes Additional Steps to Support Economy https://t.co/XKnJ8zW5yz via @WSJ                                     \n",
              "4983    RT @joannechiuhk: Markets power ahead even as statistics showed Chinaâ€™s economy contracted 6.8% from a year earlier in the first quarter htâ€¦\n",
              "4984    RT @JChengWSJ: @QiLiyan @TByGraceZhu Update: China's official first-quarter GDP was -6.8% from last year, the first decline since records bâ€¦  \n",
              "Name: Text, dtype: object"
            ]
          },
          "metadata": {
            "tags": []
          },
          "execution_count": 6
        }
      ]
    },
    {
      "cell_type": "code",
      "metadata": {
        "id": "50zT0AW5a-F1"
      },
      "source": [
        "#declare text cleaning function\n",
        "def clear_tags(text):\n",
        "  return re.sub(r'@[A-Za-z0-9]+','',text)\n",
        "\n",
        "def clear_links(text):\n",
        "  return re.sub('https?://[A-Za-z0-9./]+','',text)\n",
        "\n",
        "def clear_junk_char(text):\n",
        "  return re.sub('[A-Za-z]+â€','',text)\n",
        "\n",
        "def clear_full_stops(text):\n",
        "  return re.sub(r'..+','',text) "
      ],
      "execution_count": null,
      "outputs": []
    },
    {
      "cell_type": "code",
      "metadata": {
        "id": "PQaFhjGJchRs"
      },
      "source": [
        "data['Text'] = data['Text'].apply(clear_tags)\n",
        "data['Text'] = data['Text'].apply(clear_links)\n",
        "data['Text'] = data['Text'].apply(clear_junk_char)\n",
        "\n",
        "#string = 'arkets power ahead even as statistics showed Chinaâ€™s economy contracted'\n",
        "#re.sub('[A-Za-z]+â€','',string)\n",
        "data['Text'] = data['Text'].str.replace('[RT:™s¦%;.-?/\\n#~!^&*(),\\_\\-\\+\\$\\']','')\n"
      ],
      "execution_count": null,
      "outputs": []
    },
    {
      "cell_type": "code",
      "metadata": {
        "id": "8vAksWoakUe9",
        "outputId": "f3c6d84f-7766-4564-94c0-29a92f2e2d9a",
        "colab": {
          "base_uri": "https://localhost:8080/",
          "height": 204
        }
      },
      "source": [
        "data['Text'].sample(n=10)"
      ],
      "execution_count": null,
      "outputs": [
        {
          "output_type": "execute_result",
          "data": {
            "text/plain": [
              "4740    MNX  Bullih pattern confirming break out mode Alo like here  NAN SCA GDO VMW PAY                               \n",
              "1943    uer DOV weekly  Going higher   bot into cloe eod yet unit cot  ee we get a gapper today                        \n",
              "4020    BAC accumulated more May  call today  ooking for a move to the upide leading into hurday                       \n",
              "5141    Anwer to quetion from Wall Street Journal reader about how the temporary upenion of required minimum           \n",
              "2722    AAP Apple VIX up today                                                                                         \n",
              "162     he SmithCorona doing ok AMZN                                                                                   \n",
              "64      trade idea buy WO  market  target  cut below                                                                   \n",
              "4527    BAC Short Again Seem Weak a bit                                                                                \n",
              "4938    KWK hi deal give Quickilver ample liquidity for expanded production going into H   early hi i a  tock trading  \n",
              "5166      Yoko Some US companie are till plowing freh invetment dollar into China Walmart aid Wedneday it would        \n",
              "Name: Text, dtype: object"
            ]
          },
          "metadata": {
            "tags": []
          },
          "execution_count": 9
        }
      ]
    },
    {
      "cell_type": "code",
      "metadata": {
        "id": "u-AYyUwupvCe",
        "outputId": "bedf4f08-6bc2-4713-f630-a49d0961664a",
        "colab": {
          "base_uri": "https://localhost:8080/",
          "height": 68
        }
      },
      "source": [
        "# 1 is +ve sentiment \n",
        "# -1 is -ve sentiment\n",
        "data['Sentiment'].value_counts()"
      ],
      "execution_count": null,
      "outputs": [
        {
          "output_type": "execute_result",
          "data": {
            "text/plain": [
              " 1    3685\n",
              "-1    2106\n",
              "Name: Sentiment, dtype: int64"
            ]
          },
          "metadata": {
            "tags": []
          },
          "execution_count": 10
        }
      ]
    },
    {
      "cell_type": "code",
      "metadata": {
        "id": "5qC08hJySV9q"
      },
      "source": [
        "#convert -1 to 0 \n",
        "data['Sentiment'][data['Sentiment']==-1] = 0"
      ],
      "execution_count": null,
      "outputs": []
    },
    {
      "cell_type": "code",
      "metadata": {
        "id": "m_NaSzxFSh5w",
        "outputId": "ec7d8e99-4776-4106-9bba-099bf9540994",
        "colab": {
          "base_uri": "https://localhost:8080/",
          "height": 68
        }
      },
      "source": [
        "data['Sentiment'].value_counts()"
      ],
      "execution_count": null,
      "outputs": [
        {
          "output_type": "execute_result",
          "data": {
            "text/plain": [
              "1    3685\n",
              "0    2106\n",
              "Name: Sentiment, dtype: int64"
            ]
          },
          "metadata": {
            "tags": []
          },
          "execution_count": 12
        }
      ]
    },
    {
      "cell_type": "code",
      "metadata": {
        "id": "RIc7XTqrPDzY",
        "outputId": "8e98d7f1-0cb3-49f6-bb47-fe09aba86bfa",
        "colab": {
          "base_uri": "https://localhost:8080/",
          "height": 34
        }
      },
      "source": [
        "data.shape"
      ],
      "execution_count": null,
      "outputs": [
        {
          "output_type": "execute_result",
          "data": {
            "text/plain": [
              "(5791, 2)"
            ]
          },
          "metadata": {
            "tags": []
          },
          "execution_count": 13
        }
      ]
    },
    {
      "cell_type": "code",
      "metadata": {
        "id": "0f2C60cJ7rUB"
      },
      "source": [
        "#split the data into train, test and validation\n",
        "from sklearn.model_selection import train_test_split\n",
        "X_train, X_test, y_train, y_test = train_test_split(data['Text'], data['Sentiment'], test_size=0.7, stratify=data['Sentiment'])\n",
        "X_test, X_val, y_test, y_val = train_test_split(X_test,y_test, test_size=0.5)#, stratify=data['Sentiment'])"
      ],
      "execution_count": null,
      "outputs": []
    },
    {
      "cell_type": "code",
      "metadata": {
        "id": "-ruV6rd_84QY",
        "outputId": "53fa3e55-707c-44a3-9e2c-3ad564f65316",
        "colab": {
          "base_uri": "https://localhost:8080/",
          "height": 68
        }
      },
      "source": [
        "train_data = pd.concat([X_train,y_train],axis=1)\n",
        "test_data = pd.concat([X_test,y_test],axis=1)\n",
        "val_data  = pd.concat([X_val,y_val],axis=1)\n",
        "\n",
        "print(train_data.shape)\n",
        "print(test_data.shape)\n",
        "print(val_data.shape)"
      ],
      "execution_count": null,
      "outputs": [
        {
          "output_type": "stream",
          "text": [
            "(1737, 2)\n",
            "(2027, 2)\n",
            "(2027, 2)\n"
          ],
          "name": "stdout"
        }
      ]
    },
    {
      "cell_type": "code",
      "metadata": {
        "id": "7vyU4zJL9IZ7",
        "outputId": "67aa302f-fc1a-4df6-9fa6-566c86bfacef",
        "colab": {
          "base_uri": "https://localhost:8080/",
          "height": 170
        }
      },
      "source": [
        "print('train shape: ',train_data['Sentiment'].value_counts())\n",
        "print('test  shape: ',test_data['Sentiment'].value_counts())\n",
        "print('val shape: ', val_data['Sentiment'].value_counts())"
      ],
      "execution_count": null,
      "outputs": [
        {
          "output_type": "stream",
          "text": [
            "train shape:  1    1105\n",
            "0    632 \n",
            "Name: Sentiment, dtype: int64\n",
            "test  shape:  1    1273\n",
            "0    754 \n",
            "Name: Sentiment, dtype: int64\n",
            "val shape:  1    1307\n",
            "0    720 \n",
            "Name: Sentiment, dtype: int64\n"
          ],
          "name": "stdout"
        }
      ]
    },
    {
      "cell_type": "code",
      "metadata": {
        "id": "rcC_Xq3WRJIH"
      },
      "source": [
        "#for training -ve samples are only 632\n",
        "# adding some random negative samples from test and validation data set \n",
        "random_neg_test_value = test_data[test_data['Sentiment'] == 0].sample(n=200)\n",
        "random_neg_val_value  = val_data[val_data['Sentiment'] == 0].sample(n=200)"
      ],
      "execution_count": null,
      "outputs": []
    },
    {
      "cell_type": "code",
      "metadata": {
        "id": "pgwUjQoSTkHs"
      },
      "source": [
        "train_data = pd.concat([train_data,random_neg_test_value,random_neg_val_value])"
      ],
      "execution_count": null,
      "outputs": []
    },
    {
      "cell_type": "code",
      "metadata": {
        "id": "TaKddjWiT4Ry",
        "outputId": "31ea895e-635a-49a8-b78f-d308b04282e9",
        "colab": {
          "base_uri": "https://localhost:8080/",
          "height": 68
        }
      },
      "source": [
        "train_data['Sentiment'].value_counts()"
      ],
      "execution_count": null,
      "outputs": [
        {
          "output_type": "execute_result",
          "data": {
            "text/plain": [
              "1    1105\n",
              "0    1032\n",
              "Name: Sentiment, dtype: int64"
            ]
          },
          "metadata": {
            "tags": []
          },
          "execution_count": 19
        }
      ]
    },
    {
      "cell_type": "code",
      "metadata": {
        "id": "YasJ67UbRMHv",
        "outputId": "61ba61ec-e446-449a-832b-d8b76fdfe2da",
        "colab": {
          "base_uri": "https://localhost:8080/",
          "height": 68
        }
      },
      "source": [
        "val_data['Sentiment'].value_counts()"
      ],
      "execution_count": null,
      "outputs": [
        {
          "output_type": "execute_result",
          "data": {
            "text/plain": [
              "1    1307\n",
              "0    720 \n",
              "Name: Sentiment, dtype: int64"
            ]
          },
          "metadata": {
            "tags": []
          },
          "execution_count": 20
        }
      ]
    },
    {
      "cell_type": "code",
      "metadata": {
        "id": "NI7chDrUUFsb",
        "outputId": "f6c0c30e-7705-4304-a775-16164fd59769",
        "colab": {
          "base_uri": "https://localhost:8080/",
          "height": 68
        }
      },
      "source": [
        "test_data['Sentiment'].value_counts()"
      ],
      "execution_count": null,
      "outputs": [
        {
          "output_type": "execute_result",
          "data": {
            "text/plain": [
              "1    1273\n",
              "0    754 \n",
              "Name: Sentiment, dtype: int64"
            ]
          },
          "metadata": {
            "tags": []
          },
          "execution_count": 21
        }
      ]
    },
    {
      "cell_type": "code",
      "metadata": {
        "id": "dGBzULDCk1AL",
        "outputId": "cf60a165-1d8d-4928-e745-7de57e4f2764",
        "colab": {
          "base_uri": "https://localhost:8080/",
          "height": 204
        }
      },
      "source": [
        "test_data.head()"
      ],
      "execution_count": null,
      "outputs": [
        {
          "output_type": "execute_result",
          "data": {
            "text/html": [
              "<div>\n",
              "<style scoped>\n",
              "    .dataframe tbody tr th:only-of-type {\n",
              "        vertical-align: middle;\n",
              "    }\n",
              "\n",
              "    .dataframe tbody tr th {\n",
              "        vertical-align: top;\n",
              "    }\n",
              "\n",
              "    .dataframe thead th {\n",
              "        text-align: right;\n",
              "    }\n",
              "</style>\n",
              "<table border=\"1\" class=\"dataframe\">\n",
              "  <thead>\n",
              "    <tr style=\"text-align: right;\">\n",
              "      <th></th>\n",
              "      <th>Text</th>\n",
              "      <th>Sentiment</th>\n",
              "    </tr>\n",
              "  </thead>\n",
              "  <tbody>\n",
              "    <tr>\n",
              "      <th>2159</th>\n",
              "      <td>Stop on AAP i  hard top riking  to make  pt</td>\n",
              "      <td>1</td>\n",
              "    </tr>\n",
              "    <tr>\n",
              "      <th>4915</th>\n",
              "      <td>AAP China new will Catch Fire thi weekend jut watch</td>\n",
              "      <td>0</td>\n",
              "    </tr>\n",
              "    <tr>\n",
              "      <th>5702</th>\n",
              "      <td>Bank Shelve Fundraiing A Coronaviru Derail Market eport</td>\n",
              "      <td>0</td>\n",
              "    </tr>\n",
              "    <tr>\n",
              "      <th>2312</th>\n",
              "      <td>NEW POS AMZN I Still in the Grap of Corrective Force</td>\n",
              "      <td>0</td>\n",
              "    </tr>\n",
              "    <tr>\n",
              "      <th>2970</th>\n",
              "      <td>ed Daily riangle on DVAXNet Profit</td>\n",
              "      <td>0</td>\n",
              "    </tr>\n",
              "  </tbody>\n",
              "</table>\n",
              "</div>"
            ],
            "text/plain": [
              "                                                         Text  Sentiment\n",
              "2159  Stop on AAP i  hard top riking  to make  pt              1        \n",
              "4915  AAP China new will Catch Fire thi weekend jut watch      0        \n",
              "5702  Bank Shelve Fundraiing A Coronaviru Derail Market eport  0        \n",
              "2312  NEW POS AMZN I Still in the Grap of Corrective Force     0        \n",
              "2970  ed Daily riangle on DVAXNet Profit                       0        "
            ]
          },
          "metadata": {
            "tags": []
          },
          "execution_count": 22
        }
      ]
    },
    {
      "cell_type": "code",
      "metadata": {
        "id": "G1AgQV_49_qP"
      },
      "source": [
        "train_data.reset_index(inplace=True)\n",
        "test_data.reset_index(inplace=True)\n",
        "val_data.reset_index(inplace=True)\n",
        "\n",
        "train_data.drop(columns=['index'],inplace=True)\n",
        "test_data.drop(columns=['index'],inplace=True)\n",
        "val_data.drop(columns=['index'],inplace=True)"
      ],
      "execution_count": null,
      "outputs": []
    },
    {
      "cell_type": "code",
      "metadata": {
        "id": "xp7dFgpGQmol",
        "outputId": "74d489fe-2281-4aaa-e520-969ee89366ad",
        "colab": {
          "base_uri": "https://localhost:8080/",
          "height": 204
        }
      },
      "source": [
        "test_data.head()"
      ],
      "execution_count": null,
      "outputs": [
        {
          "output_type": "execute_result",
          "data": {
            "text/html": [
              "<div>\n",
              "<style scoped>\n",
              "    .dataframe tbody tr th:only-of-type {\n",
              "        vertical-align: middle;\n",
              "    }\n",
              "\n",
              "    .dataframe tbody tr th {\n",
              "        vertical-align: top;\n",
              "    }\n",
              "\n",
              "    .dataframe thead th {\n",
              "        text-align: right;\n",
              "    }\n",
              "</style>\n",
              "<table border=\"1\" class=\"dataframe\">\n",
              "  <thead>\n",
              "    <tr style=\"text-align: right;\">\n",
              "      <th></th>\n",
              "      <th>Text</th>\n",
              "      <th>Sentiment</th>\n",
              "    </tr>\n",
              "  </thead>\n",
              "  <tbody>\n",
              "    <tr>\n",
              "      <th>0</th>\n",
              "      <td>Stop on AAP i  hard top riking  to make  pt</td>\n",
              "      <td>1</td>\n",
              "    </tr>\n",
              "    <tr>\n",
              "      <th>1</th>\n",
              "      <td>AAP China new will Catch Fire thi weekend jut watch</td>\n",
              "      <td>0</td>\n",
              "    </tr>\n",
              "    <tr>\n",
              "      <th>2</th>\n",
              "      <td>Bank Shelve Fundraiing A Coronaviru Derail Market eport</td>\n",
              "      <td>0</td>\n",
              "    </tr>\n",
              "    <tr>\n",
              "      <th>3</th>\n",
              "      <td>NEW POS AMZN I Still in the Grap of Corrective Force</td>\n",
              "      <td>0</td>\n",
              "    </tr>\n",
              "    <tr>\n",
              "      <th>4</th>\n",
              "      <td>ed Daily riangle on DVAXNet Profit</td>\n",
              "      <td>0</td>\n",
              "    </tr>\n",
              "  </tbody>\n",
              "</table>\n",
              "</div>"
            ],
            "text/plain": [
              "                                                      Text  Sentiment\n",
              "0  Stop on AAP i  hard top riking  to make  pt              1        \n",
              "1  AAP China new will Catch Fire thi weekend jut watch      0        \n",
              "2  Bank Shelve Fundraiing A Coronaviru Derail Market eport  0        \n",
              "3  NEW POS AMZN I Still in the Grap of Corrective Force     0        \n",
              "4  ed Daily riangle on DVAXNet Profit                       0        "
            ]
          },
          "metadata": {
            "tags": []
          },
          "execution_count": 24
        }
      ]
    },
    {
      "cell_type": "code",
      "metadata": {
        "id": "ayIW3jxEAu7F",
        "outputId": "d2cd7de4-5d47-4080-c395-2d9f4aa0d39f",
        "colab": {
          "base_uri": "https://localhost:8080/",
          "height": 34
        }
      },
      "source": [
        "test_data.shape"
      ],
      "execution_count": null,
      "outputs": [
        {
          "output_type": "execute_result",
          "data": {
            "text/plain": [
              "(2027, 2)"
            ]
          },
          "metadata": {
            "tags": []
          },
          "execution_count": 25
        }
      ]
    },
    {
      "cell_type": "code",
      "metadata": {
        "id": "KngHfsAPWC4K",
        "outputId": "82a5d7a0-85fa-498f-8658-faf43a69a9ff",
        "colab": {
          "base_uri": "https://localhost:8080/",
          "height": 204
        }
      },
      "source": [
        "train_data.head()"
      ],
      "execution_count": null,
      "outputs": [
        {
          "output_type": "execute_result",
          "data": {
            "text/html": [
              "<div>\n",
              "<style scoped>\n",
              "    .dataframe tbody tr th:only-of-type {\n",
              "        vertical-align: middle;\n",
              "    }\n",
              "\n",
              "    .dataframe tbody tr th {\n",
              "        vertical-align: top;\n",
              "    }\n",
              "\n",
              "    .dataframe thead th {\n",
              "        text-align: right;\n",
              "    }\n",
              "</style>\n",
              "<table border=\"1\" class=\"dataframe\">\n",
              "  <thead>\n",
              "    <tr style=\"text-align: right;\">\n",
              "      <th></th>\n",
              "      <th>Text</th>\n",
              "      <th>Sentiment</th>\n",
              "    </tr>\n",
              "  </thead>\n",
              "  <tbody>\n",
              "    <tr>\n",
              "      <th>0</th>\n",
              "      <td>KEX trying a hort  filled and more at  with a  top</td>\n",
              "      <td>0</td>\n",
              "    </tr>\n",
              "    <tr>\n",
              "      <th>1</th>\n",
              "      <td>ed Daily riangle on JVAOpen ong at</td>\n",
              "      <td>1</td>\n",
              "    </tr>\n",
              "    <tr>\n",
              "      <th>2</th>\n",
              "      <td>EFC  he bigger the bae</td>\n",
              "      <td>1</td>\n",
              "    </tr>\n",
              "    <tr>\n",
              "      <th>3</th>\n",
              "      <td>Green Weekly  Monthly riangle on HBANpdating</td>\n",
              "      <td>0</td>\n",
              "    </tr>\n",
              "    <tr>\n",
              "      <th>4</th>\n",
              "      <td>HPQ i  too much to ak for tomorrow</td>\n",
              "      <td>1</td>\n",
              "    </tr>\n",
              "  </tbody>\n",
              "</table>\n",
              "</div>"
            ],
            "text/plain": [
              "                                                 Text  Sentiment\n",
              "0  KEX trying a hort  filled and more at  with a  top  0        \n",
              "1  ed Daily riangle on JVAOpen ong at                  1        \n",
              "2  EFC  he bigger the bae                              1        \n",
              "3  Green Weekly  Monthly riangle on HBANpdating        0        \n",
              "4  HPQ i  too much to ak for tomorrow                  1        "
            ]
          },
          "metadata": {
            "tags": []
          },
          "execution_count": 29
        }
      ]
    },
    {
      "cell_type": "code",
      "metadata": {
        "id": "k-Oc1dlx99F6",
        "outputId": "58cacfde-d146-42a6-d0a2-55ea5fd426a3",
        "colab": {
          "base_uri": "https://localhost:8080/",
          "height": 68
        }
      },
      "source": [
        "test_data.dtypes"
      ],
      "execution_count": null,
      "outputs": [
        {
          "output_type": "execute_result",
          "data": {
            "text/plain": [
              "Text         object\n",
              "Sentiment    int64 \n",
              "dtype: object"
            ]
          },
          "metadata": {
            "tags": []
          },
          "execution_count": 30
        }
      ]
    },
    {
      "cell_type": "markdown",
      "metadata": {
        "id": "Dl3gFr8fwRhr"
      },
      "source": [
        "##**2.Create Tensorflow Data Set**"
      ]
    },
    {
      "cell_type": "code",
      "metadata": {
        "id": "dPURKNpJ4rWV"
      },
      "source": [
        "def create_tf_example(features, label,idx_value):\n",
        "    tf_example = tf.train.Example(features=tf.train.Features(feature={\n",
        "        'idx': tf.train.Feature(int64_list=tf.train.Int64List(value=[idx_value])),\n",
        "        'sentence': tf.train.Feature(bytes_list=tf.train.BytesList(value=[features.encode('utf-8')])),\n",
        "        #'sentence2': tf.train.Feature(bytes_list=tf.train.BytesList(value=[features.encode('utf-8')])),\n",
        "        'label': tf.train.Feature(int64_list=tf.train.Int64List(value=[label]))\n",
        "       \n",
        "    }))\n",
        "\n",
        "    return tf_example"
      ],
      "execution_count": null,
      "outputs": []
    },
    {
      "cell_type": "code",
      "metadata": {
        "id": "ZcbhK4t64sb0"
      },
      "source": [
        "def convert_csv_to_tfrecord(data, file_name):\n",
        "  writer = TFRecordWriter(file_name)\n",
        "  for i in range(data.shape[0]):\n",
        "    idx_value = i+1\n",
        "    example = create_tf_example(data['Text'][i], data['Sentiment'][i],idx_value)\n",
        "    writer.write(example.SerializeToString())\n",
        "  writer.close()\n"
      ],
      "execution_count": null,
      "outputs": []
    },
    {
      "cell_type": "code",
      "metadata": {
        "id": "IYuSKjTH4sks"
      },
      "source": [
        "# convert data to tf records \n",
        "convert_csv_to_tfrecord(train_data, \"/content/train_data.tfrecord\")\n",
        "convert_csv_to_tfrecord(test_data, \"/content/test_data.tfrecord\")\n",
        "convert_csv_to_tfrecord(val_data, \"/content/val_data.tfrecord\")"
      ],
      "execution_count": null,
      "outputs": []
    },
    {
      "cell_type": "code",
      "metadata": {
        "id": "8RbUp_DiSNSm"
      },
      "source": [
        "# read tf records\n",
        "train_ds = tf.data.TFRecordDataset(\"/content/train_data.tfrecord\") \n",
        "test_ds  = tf.data.TFRecordDataset(\"/content/test_data.tfrecord\") \n",
        "val_ds  = tf.data.TFRecordDataset(\"/content/val_data.tfrecord\")"
      ],
      "execution_count": null,
      "outputs": []
    },
    {
      "cell_type": "code",
      "metadata": {
        "id": "OYQHjpy2SXK2"
      },
      "source": [
        "feature_spec = {\n",
        "    'idx': tf.io.FixedLenFeature([], tf.int64),\n",
        "    'sentence': tf.io.FixedLenFeature([], tf.string),\n",
        "    #'sentence2': tf.io.FixedLenFeature([], tf.string),\n",
        "    'label': tf.io.FixedLenFeature([], tf.int64)\n",
        "}"
      ],
      "execution_count": null,
      "outputs": []
    },
    {
      "cell_type": "code",
      "metadata": {
        "id": "sBsw1b9ESZE3"
      },
      "source": [
        "def parse_example(example_proto):\n",
        "  # Parse the input tf.Example proto using the dictionary above.\n",
        "  return tf.io.parse_single_example(example_proto, feature_spec)"
      ],
      "execution_count": null,
      "outputs": []
    },
    {
      "cell_type": "code",
      "metadata": {
        "id": "xE_TNeP7SZPU"
      },
      "source": [
        "#parse data \n",
        "train_parse_ds = train_ds.map(parse_example)\n",
        "test_parse_ds = test_ds.map(parse_example)\n",
        "val_parse_ds = val_ds.map(parse_example)"
      ],
      "execution_count": null,
      "outputs": []
    },
    {
      "cell_type": "code",
      "metadata": {
        "id": "3il3ASS7e242",
        "outputId": "5206aa2a-4afe-413b-c670-49fee03ac4a8",
        "colab": {
          "base_uri": "https://localhost:8080/",
          "height": 68
        }
      },
      "source": [
        "#check one train sample \n",
        "dataset_iterator = iter(train_parse_ds)\n",
        "dataset_iterator.get_next()"
      ],
      "execution_count": null,
      "outputs": [
        {
          "output_type": "execute_result",
          "data": {
            "text/plain": [
              "{'idx': <tf.Tensor: shape=(), dtype=int64, numpy=1>,\n",
              " 'label': <tf.Tensor: shape=(), dtype=int64, numpy=0>,\n",
              " 'sentence': <tf.Tensor: shape=(), dtype=string, numpy=b'KEX trying a hort  filled and more at  with a  top'>}"
            ]
          },
          "metadata": {
            "tags": []
          },
          "execution_count": 49
        }
      ]
    },
    {
      "cell_type": "code",
      "metadata": {
        "id": "wrOvhKugih3w",
        "outputId": "13527f93-71e4-436a-a107-b9be7102ed08",
        "colab": {
          "base_uri": "https://localhost:8080/",
          "height": 68
        }
      },
      "source": [
        "#check one test sample \n",
        "dataset_iterator = iter(test_parse_ds)\n",
        "dataset_iterator.get_next()"
      ],
      "execution_count": null,
      "outputs": [
        {
          "output_type": "execute_result",
          "data": {
            "text/plain": [
              "{'idx': <tf.Tensor: shape=(), dtype=int64, numpy=1>,\n",
              " 'label': <tf.Tensor: shape=(), dtype=int64, numpy=1>,\n",
              " 'sentence': <tf.Tensor: shape=(), dtype=string, numpy=b'Stop on AAP i  hard top riking  to make  pt'>}"
            ]
          },
          "metadata": {
            "tags": []
          },
          "execution_count": 50
        }
      ]
    },
    {
      "cell_type": "code",
      "metadata": {
        "id": "tXHghbz7ikKY",
        "outputId": "255a6ddc-abda-4ac9-b1b8-68b513ec5d8e",
        "colab": {
          "base_uri": "https://localhost:8080/",
          "height": 88
        }
      },
      "source": [
        "#check one validation sample \n",
        "dataset_iterator = iter(val_parse_ds)\n",
        "dataset_iterator.get_next()"
      ],
      "execution_count": null,
      "outputs": [
        {
          "output_type": "execute_result",
          "data": {
            "text/plain": [
              "{'idx': <tf.Tensor: shape=(), dtype=int64, numpy=1>,\n",
              " 'label': <tf.Tensor: shape=(), dtype=int64, numpy=1>,\n",
              " 'sentence': <tf.Tensor: shape=(), dtype=string, numpy=b'CS Cointar option trader buy  Feb call pread betting on good earning  '>}"
            ]
          },
          "metadata": {
            "tags": []
          },
          "execution_count": 51
        }
      ]
    },
    {
      "cell_type": "code",
      "metadata": {
        "id": "GQ0OfePRQc6U",
        "outputId": "006aa0cf-f286-4e60-874e-ec94c869541d",
        "colab": {
          "base_uri": "https://localhost:8080/",
          "height": 170
        }
      },
      "source": [
        "test_data.info()"
      ],
      "execution_count": null,
      "outputs": [
        {
          "output_type": "stream",
          "text": [
            "<class 'pandas.core.frame.DataFrame'>\n",
            "RangeIndex: 2027 entries, 0 to 2026\n",
            "Data columns (total 2 columns):\n",
            " #   Column     Non-Null Count  Dtype \n",
            "---  ------     --------------  ----- \n",
            " 0   Text       2027 non-null   object\n",
            " 1   Sentiment  2027 non-null   int64 \n",
            "dtypes: int64(1), object(1)\n",
            "memory usage: 31.8+ KB\n"
          ],
          "name": "stdout"
        }
      ]
    },
    {
      "cell_type": "markdown",
      "metadata": {
        "id": "JnnwQf4lga4h"
      },
      "source": [
        "##**3. Train Bert model**"
      ]
    },
    {
      "cell_type": "code",
      "metadata": {
        "id": "VAqh9kylgZkS"
      },
      "source": [
        "!pip install transformers"
      ],
      "execution_count": null,
      "outputs": []
    },
    {
      "cell_type": "code",
      "metadata": {
        "id": "bseqKKiFgjbZ"
      },
      "source": [
        "# import HuggingFace Bert Sequence classification library and tokenizer\n",
        "from transformers import (TFBertForSequenceClassification, \n",
        "                          BertTokenizer)"
      ],
      "execution_count": null,
      "outputs": []
    },
    {
      "cell_type": "code",
      "metadata": {
        "id": "e7V1nl0cgm1H",
        "outputId": "02a23716-d478-47c0-db54-5ce7601779b7",
        "colab": {
          "base_uri": "https://localhost:8080/",
          "height": 220,
          "referenced_widgets": [
            "63a7e693b3544edab88d7e9c41ef882c",
            "07297c12749546e698ebbdde996a51e3",
            "46e95d13574f4d50a68e81f3a98bbdf3",
            "cb40854e6bdc438ab10b3adf6f8c72f2",
            "228aa02321c44aeaa6893a459c5bdb89",
            "3c551f632cfc408aa1f3e7abc4970dea",
            "c2c26dd0a6de49399439d99f9275e8e6",
            "3eda9ab8ec614cdb8723fa98967b4a19",
            "d1658873b08c422088eede477726359c",
            "81f33ac1e700429293c1764d72094813",
            "75792cd361af443193d9bf883fe5e5de",
            "0d3473568efd4957a1fb9a987fb090b1",
            "7c31485dd5ec4a368529a91d56ccb03d",
            "f78dfae381d24265a0bc9ad10b32e129",
            "d5910aced6f94f5d9b757b0ea28da152",
            "1341279ed0804fdbac9e603aa1eec731"
          ]
        }
      },
      "source": [
        "#load pretrain model TFBertForSequenceClassification\n",
        "bert_model = TFBertForSequenceClassification.from_pretrained(\"bert-base-cased\")"
      ],
      "execution_count": null,
      "outputs": [
        {
          "output_type": "display_data",
          "data": {
            "application/vnd.jupyter.widget-view+json": {
              "model_id": "63a7e693b3544edab88d7e9c41ef882c",
              "version_minor": 0,
              "version_major": 2
            },
            "text/plain": [
              "HBox(children=(FloatProgress(value=0.0, description='Downloading', max=433.0, style=ProgressStyle(description_…"
            ]
          },
          "metadata": {
            "tags": []
          }
        },
        {
          "output_type": "stream",
          "text": [
            "\n"
          ],
          "name": "stdout"
        },
        {
          "output_type": "display_data",
          "data": {
            "application/vnd.jupyter.widget-view+json": {
              "model_id": "d1658873b08c422088eede477726359c",
              "version_minor": 0,
              "version_major": 2
            },
            "text/plain": [
              "HBox(children=(FloatProgress(value=0.0, description='Downloading', max=526681800.0, style=ProgressStyle(descri…"
            ]
          },
          "metadata": {
            "tags": []
          }
        },
        {
          "output_type": "stream",
          "text": [
            "\n"
          ],
          "name": "stdout"
        },
        {
          "output_type": "stream",
          "text": [
            "Some weights of the model checkpoint at bert-base-cased were not used when initializing TFBertForSequenceClassification: ['nsp___cls', 'mlm___cls']\n",
            "- This IS expected if you are initializing TFBertForSequenceClassification from the checkpoint of a model trained on another task or with another architecture (e.g. initializing a BertForSequenceClassification model from a BertForPretraining model).\n",
            "- This IS NOT expected if you are initializing TFBertForSequenceClassification from the checkpoint of a model that you expect to be exactly identical (initializing a BertForSequenceClassification model from a BertForSequenceClassification model).\n",
            "Some weights of TFBertForSequenceClassification were not initialized from the model checkpoint at bert-base-cased and are newly initialized: ['classifier', 'dropout_37']\n",
            "You should probably TRAIN this model on a down-stream task to be able to use it for predictions and inference.\n"
          ],
          "name": "stderr"
        }
      ]
    },
    {
      "cell_type": "code",
      "metadata": {
        "id": "A7l1oMnZjBgl",
        "outputId": "6bf6ce2a-b361-4784-e50f-08b9a557ef46",
        "colab": {
          "base_uri": "https://localhost:8080/",
          "height": 66,
          "referenced_widgets": [
            "ad39ae2a9b104143886a27aa5323dbcb",
            "d81c51ce09b5495eacd53d4b6308be64",
            "2fe093ac27c94871bfcef28056ae3b64",
            "263265decb2c4f5683a9630fd0d6324b",
            "4bf467cf5f8f447fae1021f98c3704be",
            "6d0b0e6d7d9c42808480b5a39a24ffe4",
            "3fb783ce724f4294a4585e0a8a845392",
            "ea5ccd329b5b4b4db1066077aed5f9d9"
          ]
        }
      },
      "source": [
        "#load tokenizer \n",
        "tokenizer = BertTokenizer.from_pretrained('bert-base-cased')"
      ],
      "execution_count": null,
      "outputs": [
        {
          "output_type": "display_data",
          "data": {
            "application/vnd.jupyter.widget-view+json": {
              "model_id": "ad39ae2a9b104143886a27aa5323dbcb",
              "version_minor": 0,
              "version_major": 2
            },
            "text/plain": [
              "HBox(children=(FloatProgress(value=0.0, description='Downloading', max=213450.0, style=ProgressStyle(descripti…"
            ]
          },
          "metadata": {
            "tags": []
          }
        },
        {
          "output_type": "stream",
          "text": [
            "\n"
          ],
          "name": "stdout"
        }
      ]
    },
    {
      "cell_type": "code",
      "metadata": {
        "id": "eM3TbPs5t5-5"
      },
      "source": [
        "# this function will clean special character added while creating tfrecords\n",
        "def clean_string(features):\n",
        "    revised_sentence = tf.strings.regex_replace(features['sentence'], \"\\.\\.\\.\", \"\", replace_global=True)\n",
        "    revised_sentence = tf.strings.regex_replace(revised_sentence, \"\\\\'\", \"'\", replace_global=True)\n",
        "    revised_sentence = tf.strings.regex_replace(revised_sentence, \"\\\\n\", \"\", replace_global=True)\n",
        "    features['sentence'] = revised_sentence\n",
        "\n",
        "    return features"
      ],
      "execution_count": null,
      "outputs": []
    },
    {
      "cell_type": "code",
      "metadata": {
        "id": "vSUPuM7duB-Z"
      },
      "source": [
        "train_clean_ds = train_parse_ds.map(lambda features: clean_string(features))\n",
        "test_clean_ds = test_parse_ds.map(lambda features: clean_string(features))\n",
        "val_clean_ds = val_parse_ds.map(lambda features: clean_string(features))"
      ],
      "execution_count": null,
      "outputs": []
    },
    {
      "cell_type": "code",
      "metadata": {
        "id": "MaTag2uRugBP",
        "outputId": "5a9e7326-8c6d-4709-f23c-b785a1878c5b",
        "colab": {
          "base_uri": "https://localhost:8080/",
          "height": 68
        }
      },
      "source": [
        "#data_clean_ds[0]\n",
        "iter(train_clean_ds).get_next()"
      ],
      "execution_count": null,
      "outputs": [
        {
          "output_type": "execute_result",
          "data": {
            "text/plain": [
              "{'idx': <tf.Tensor: shape=(), dtype=int64, numpy=1>,\n",
              " 'label': <tf.Tensor: shape=(), dtype=int64, numpy=0>,\n",
              " 'sentence': <tf.Tensor: shape=(), dtype=string, numpy=b'KEX trying a hort  filled and more at  with a  top'>}"
            ]
          },
          "metadata": {
            "tags": []
          },
          "execution_count": 59
        }
      ]
    },
    {
      "cell_type": "code",
      "metadata": {
        "id": "iBbgAaszFsUT",
        "outputId": "81247870-021a-46cf-bfe7-da96611b39f9",
        "colab": {
          "base_uri": "https://localhost:8080/",
          "height": 68
        }
      },
      "source": [
        "iter(test_clean_ds).get_next()"
      ],
      "execution_count": null,
      "outputs": [
        {
          "output_type": "execute_result",
          "data": {
            "text/plain": [
              "{'idx': <tf.Tensor: shape=(), dtype=int64, numpy=1>,\n",
              " 'label': <tf.Tensor: shape=(), dtype=int64, numpy=1>,\n",
              " 'sentence': <tf.Tensor: shape=(), dtype=string, numpy=b'Stop on AAP i  hard top riking  to make  pt'>}"
            ]
          },
          "metadata": {
            "tags": []
          },
          "execution_count": 60
        }
      ]
    },
    {
      "cell_type": "code",
      "metadata": {
        "id": "H0Q72YfPgm_x"
      },
      "source": [
        "#this glue function will convert tfrecord data to model suitable format \n",
        "\n",
        "from transformers import glue_convert_examples_to_features\n",
        "\n",
        "bert_train_dataset = glue_convert_examples_to_features(examples = train_clean_ds, tokenizer = tokenizer, max_length = 128, task='sst-2',label_list =['1','0'])\n",
        "bert_validation_dataset = glue_convert_examples_to_features(examples = val_clean_ds, tokenizer = tokenizer, max_length = 128, task='sst-2',label_list =['1','0'])\n"
      ],
      "execution_count": null,
      "outputs": []
    },
    {
      "cell_type": "code",
      "metadata": {
        "id": "oUmbLN6AgnDt"
      },
      "source": [
        "# define model parameter \n",
        "optimizer = tf.keras.optimizers.Adam(learning_rate=3e-5, epsilon=1e-08, clipnorm=1.0)\n",
        "loss = tf.keras.losses.SparseCategoricalCrossentropy(from_logits=True)\n",
        "metric = tf.keras.metrics.SparseCategoricalAccuracy('accuracy')\n",
        "\n",
        "bert_model.compile(optimizer=optimizer, loss=loss, metrics=[metric])"
      ],
      "execution_count": null,
      "outputs": []
    },
    {
      "cell_type": "code",
      "metadata": {
        "id": "MSAIb-XB8J3F"
      },
      "source": [
        "#decalre batch size \n",
        "BATCH_SIZE = 32\n",
        "\n",
        "EVAL_BATCH_SIZE = BATCH_SIZE * 2"
      ],
      "execution_count": null,
      "outputs": []
    },
    {
      "cell_type": "code",
      "metadata": {
        "id": "zMEotWbaLzA7"
      },
      "source": [
        "train_steps = train_data.shape[0]//BATCH_SIZE\n",
        "valid_steps = val_data.shape[0]//EVAL_BATCH_SIZE"
      ],
      "execution_count": null,
      "outputs": []
    },
    {
      "cell_type": "code",
      "metadata": {
        "id": "DwNvGPflLBwm",
        "outputId": "9c83fcc2-1e67-4799-c2a2-76aef3471e75",
        "colab": {
          "base_uri": "https://localhost:8080/",
          "height": 34
        }
      },
      "source": [
        "train_data.shape[0]//32"
      ],
      "execution_count": null,
      "outputs": [
        {
          "output_type": "execute_result",
          "data": {
            "text/plain": [
              "66"
            ]
          },
          "metadata": {
            "tags": []
          },
          "execution_count": 64
        }
      ]
    },
    {
      "cell_type": "code",
      "metadata": {
        "id": "UQECjUUF8Pys"
      },
      "source": [
        "\n",
        "bert_train_dataset = bert_train_dataset.shuffle(train_data.shape[0]).batch(BATCH_SIZE).repeat(-1)\n",
        "\n",
        "bert_validation_dataset = bert_validation_dataset.batch(EVAL_BATCH_SIZE)"
      ],
      "execution_count": null,
      "outputs": []
    },
    {
      "cell_type": "code",
      "metadata": {
        "id": "L43SWIwtMwDX",
        "outputId": "18b14076-a95e-41fd-ad9d-305ca6de734f",
        "colab": {
          "base_uri": "https://localhost:8080/",
          "height": 139
        }
      },
      "source": [
        "#train model for 3 epochs \n",
        "history = bert_model.fit(bert_train_dataset, epochs=3, steps_per_epoch=train_steps,validation_data=bert_validation_dataset,validation_steps=valid_steps)\n"
      ],
      "execution_count": null,
      "outputs": [
        {
          "output_type": "stream",
          "text": [
            "Epoch 1/3\n",
            "66/66 [==============================] - 73s 1s/step - loss: 0.6716 - accuracy: 0.5819 - val_loss: 0.6091 - val_accuracy: 0.6704\n",
            "Epoch 2/3\n",
            "66/66 [==============================] - 76s 1s/step - loss: 0.5338 - accuracy: 0.7321 - val_loss: 0.4776 - val_accuracy: 0.7767\n",
            "Epoch 3/3\n",
            "66/66 [==============================] - 76s 1s/step - loss: 0.3172 - accuracy: 0.8789 - val_loss: 0.5011 - val_accuracy: 0.7702\n"
          ],
          "name": "stdout"
        }
      ]
    },
    {
      "cell_type": "code",
      "metadata": {
        "id": "eAwtW1cc9MNt",
        "outputId": "d2771cfa-d1e6-4b23-883d-4c303dbafe6c",
        "colab": {
          "base_uri": "https://localhost:8080/",
          "height": 255
        }
      },
      "source": [
        "# print model summary\n",
        "bert_model.summary()"
      ],
      "execution_count": null,
      "outputs": [
        {
          "output_type": "stream",
          "text": [
            "Model: \"tf_bert_for_sequence_classification\"\n",
            "_________________________________________________________________\n",
            "Layer (type)                 Output Shape              Param #   \n",
            "=================================================================\n",
            "bert (TFBertMainLayer)       multiple                  108310272 \n",
            "_________________________________________________________________\n",
            "dropout_37 (Dropout)         multiple                  0         \n",
            "_________________________________________________________________\n",
            "classifier (Dense)           multiple                  1538      \n",
            "=================================================================\n",
            "Total params: 108,311,810\n",
            "Trainable params: 108,311,810\n",
            "Non-trainable params: 0\n",
            "_________________________________________________________________\n"
          ],
          "name": "stdout"
        }
      ]
    },
    {
      "cell_type": "markdown",
      "metadata": {
        "id": "CBmxPSbp7pG7"
      },
      "source": [
        "##**4. Save and Load Model**"
      ]
    },
    {
      "cell_type": "code",
      "metadata": {
        "id": "-hMU1fcYKx15"
      },
      "source": [
        "from transformers import BertConfig,BertModel"
      ],
      "execution_count": null,
      "outputs": []
    },
    {
      "cell_type": "code",
      "metadata": {
        "id": "6qaqqNbY7rpu"
      },
      "source": [
        "# save model \n",
        "bert_model.save_pretrained('/content/senti_class') "
      ],
      "execution_count": null,
      "outputs": []
    },
    {
      "cell_type": "code",
      "metadata": {
        "id": "YIEipHYvP124",
        "outputId": "43861bfd-46d1-4dcb-fc81-c50020fceb68",
        "colab": {
          "base_uri": "https://localhost:8080/",
          "height": 122
        }
      },
      "source": [
        "#load model\n",
        "load_model = TFBertForSequenceClassification.from_pretrained('/content/senti_class/')"
      ],
      "execution_count": null,
      "outputs": [
        {
          "output_type": "stream",
          "text": [
            "Some weights of the model checkpoint at /content/senti_class/ were not used when initializing TFBertForSequenceClassification: ['dropout_37']\n",
            "- This IS expected if you are initializing TFBertForSequenceClassification from the checkpoint of a model trained on another task or with another architecture (e.g. initializing a BertForSequenceClassification model from a BertForPretraining model).\n",
            "- This IS NOT expected if you are initializing TFBertForSequenceClassification from the checkpoint of a model that you expect to be exactly identical (initializing a BertForSequenceClassification model from a BertForSequenceClassification model).\n",
            "Some weights of TFBertForSequenceClassification were not initialized from the model checkpoint at /content/senti_class/ and are newly initialized: ['dropout_75']\n",
            "You should probably TRAIN this model on a down-stream task to be able to use it for predictions and inference.\n"
          ],
          "name": "stderr"
        }
      ]
    },
    {
      "cell_type": "code",
      "metadata": {
        "id": "yYSNKOikQOgd",
        "outputId": "24a8543b-d91f-4674-f283-5e5184196559",
        "colab": {
          "base_uri": "https://localhost:8080/",
          "height": 255
        }
      },
      "source": [
        "load_model.summary()"
      ],
      "execution_count": null,
      "outputs": [
        {
          "output_type": "stream",
          "text": [
            "Model: \"tf_bert_for_sequence_classification_1\"\n",
            "_________________________________________________________________\n",
            "Layer (type)                 Output Shape              Param #   \n",
            "=================================================================\n",
            "bert (TFBertMainLayer)       multiple                  108310272 \n",
            "_________________________________________________________________\n",
            "dropout_75 (Dropout)         multiple                  0         \n",
            "_________________________________________________________________\n",
            "classifier (Dense)           multiple                  1538      \n",
            "=================================================================\n",
            "Total params: 108,311,810\n",
            "Trainable params: 108,311,810\n",
            "Non-trainable params: 0\n",
            "_________________________________________________________________\n"
          ],
          "name": "stdout"
        }
      ]
    },
    {
      "cell_type": "markdown",
      "metadata": {
        "id": "6UXy9coriNr_"
      },
      "source": [
        "##**5. Prediction on Test Data**"
      ]
    },
    {
      "cell_type": "code",
      "metadata": {
        "id": "TvCopQPwRxoV"
      },
      "source": [
        "#\n",
        "pred_class_list = []\n",
        "for txt in test_data['Text']:\n",
        "  inputs = tokenizer(txt, return_tensors=\"tf\")\n",
        "  argmx_res = tf.nn.softmax(load_model(inputs))\n",
        "  pred_class = tf.math.argmax(argmx_res[0][0],axis=0)\n",
        "  pred_class_list.append(np.array([pred_class])[0])\n"
      ],
      "execution_count": null,
      "outputs": []
    },
    {
      "cell_type": "code",
      "metadata": {
        "id": "JCIoh9vw-EmB"
      },
      "source": [
        "test_data['pred'] = pred_class_list"
      ],
      "execution_count": null,
      "outputs": []
    },
    {
      "cell_type": "code",
      "metadata": {
        "id": "I6gk4qqN2iIY",
        "outputId": "5e7fb966-c54c-4801-b5a9-056560959085",
        "colab": {
          "base_uri": "https://localhost:8080/",
          "height": 359
        }
      },
      "source": [
        "test_data.head(10)"
      ],
      "execution_count": null,
      "outputs": [
        {
          "output_type": "execute_result",
          "data": {
            "text/html": [
              "<div>\n",
              "<style scoped>\n",
              "    .dataframe tbody tr th:only-of-type {\n",
              "        vertical-align: middle;\n",
              "    }\n",
              "\n",
              "    .dataframe tbody tr th {\n",
              "        vertical-align: top;\n",
              "    }\n",
              "\n",
              "    .dataframe thead th {\n",
              "        text-align: right;\n",
              "    }\n",
              "</style>\n",
              "<table border=\"1\" class=\"dataframe\">\n",
              "  <thead>\n",
              "    <tr style=\"text-align: right;\">\n",
              "      <th></th>\n",
              "      <th>Text</th>\n",
              "      <th>Sentiment</th>\n",
              "      <th>pred</th>\n",
              "    </tr>\n",
              "  </thead>\n",
              "  <tbody>\n",
              "    <tr>\n",
              "      <th>0</th>\n",
              "      <td>AAP Sell ell ell</td>\n",
              "      <td>0</td>\n",
              "      <td>0</td>\n",
              "    </tr>\n",
              "    <tr>\n",
              "      <th>1</th>\n",
              "      <td>uer ANF triggering at the  buy price Nice  min candle Need to build on thi intraday momentum</td>\n",
              "      <td>1</td>\n",
              "      <td>1</td>\n",
              "    </tr>\n",
              "    <tr>\n",
              "      <th>2</th>\n",
              "      <td>in dec GE long in the IA under  tock had plague now world love it  tell me we headed down now jut a then knew we heading up</td>\n",
              "      <td>0</td>\n",
              "      <td>1</td>\n",
              "    </tr>\n",
              "    <tr>\n",
              "      <th>3</th>\n",
              "      <td>BI Governor Shaktikanta Da tart Pre Conference hi econd pre briefing ince the COVID outbreak</td>\n",
              "      <td>1</td>\n",
              "      <td>1</td>\n",
              "    </tr>\n",
              "    <tr>\n",
              "      <th>4</th>\n",
              "      <td>Maruti Suzuki March Sale Plunge Nearly  Amid Coronaviru Outbreak</td>\n",
              "      <td>0</td>\n",
              "      <td>0</td>\n",
              "    </tr>\n",
              "    <tr>\n",
              "      <th>5</th>\n",
              "      <td>FOS  bullih engulfing</td>\n",
              "      <td>1</td>\n",
              "      <td>0</td>\n",
              "    </tr>\n",
              "    <tr>\n",
              "      <th>6</th>\n",
              "      <td>NKD  down day in lat  going to wear off the overbought while giving back nothing amazing</td>\n",
              "      <td>1</td>\n",
              "      <td>0</td>\n",
              "    </tr>\n",
              "    <tr>\n",
              "      <th>7</th>\n",
              "      <td>Failure to complete the deal would be a blow to BP which already ha the highet debt level among the major oil</td>\n",
              "      <td>0</td>\n",
              "      <td>0</td>\n",
              "    </tr>\n",
              "    <tr>\n",
              "      <th>8</th>\n",
              "      <td>he Daily Shot US Crude Oil rading Below  Near Year Low</td>\n",
              "      <td>0</td>\n",
              "      <td>0</td>\n",
              "    </tr>\n",
              "    <tr>\n",
              "      <th>9</th>\n",
              "      <td>MCP continue to print lower high and lower low down  We hould ee a tet of the Feb low oon</td>\n",
              "      <td>0</td>\n",
              "      <td>0</td>\n",
              "    </tr>\n",
              "  </tbody>\n",
              "</table>\n",
              "</div>"
            ],
            "text/plain": [
              "                                                                                                                          Text  ...  pred\n",
              "0  AAP Sell ell ell                                                                                                             ...  0   \n",
              "1  uer ANF triggering at the  buy price Nice  min candle Need to build on thi intraday momentum                                 ...  1   \n",
              "2  in dec GE long in the IA under  tock had plague now world love it  tell me we headed down now jut a then knew we heading up  ...  1   \n",
              "3  BI Governor Shaktikanta Da tart Pre Conference hi econd pre briefing ince the COVID outbreak                                 ...  1   \n",
              "4  Maruti Suzuki March Sale Plunge Nearly  Amid Coronaviru Outbreak                                                             ...  0   \n",
              "5  FOS  bullih engulfing                                                                                                        ...  0   \n",
              "6  NKD  down day in lat  going to wear off the overbought while giving back nothing amazing                                     ...  0   \n",
              "7  Failure to complete the deal would be a blow to BP which already ha the highet debt level among the major oil                ...  0   \n",
              "8  he Daily Shot US Crude Oil rading Below  Near Year Low                                                                       ...  0   \n",
              "9  MCP continue to print lower high and lower low down  We hould ee a tet of the Feb low oon                                    ...  0   \n",
              "\n",
              "[10 rows x 3 columns]"
            ]
          },
          "metadata": {
            "tags": []
          },
          "execution_count": 102
        }
      ]
    },
    {
      "cell_type": "markdown",
      "metadata": {
        "id": "4RETmqZA3n5z"
      },
      "source": [
        "### Visualize Result "
      ]
    },
    {
      "cell_type": "code",
      "metadata": {
        "id": "zKq-WCYjU3B9",
        "outputId": "5a3a966b-463b-4ad4-e131-e9bb1724f21c",
        "colab": {
          "base_uri": "https://localhost:8080/",
          "height": 311
        }
      },
      "source": [
        "%matplotlib inline  \n",
        "import seaborn as sns\n",
        "import matplotlib.pyplot as plt\n",
        "import pandas as pd\n",
        "\n",
        "def visualize_confusion_matrix(y_pred_argmax, y_true):\n",
        "    \"\"\"\n",
        "\n",
        "    :param y_pred_arg: This is an array with values that are 0 or 1\n",
        "    :param y_true: This is an array with values that are 0 or 1\n",
        "    :return:\n",
        "    \"\"\"\n",
        "\n",
        "    cm = tf.math.confusion_matrix(y_true, y_pred_argmax).numpy()\n",
        "    con_mat_df = pd.DataFrame(cm)\n",
        "\n",
        "    sns.heatmap(con_mat_df, annot=True, fmt='g', cmap=plt.cm.Oranges)\n",
        "    plt.tight_layout()\n",
        "    plt.ylabel('True label')\n",
        "    plt.xlabel('Predicted label')\n",
        "    plt.show()\n",
        "\n",
        "\n",
        "visualize_confusion_matrix(test_data['pred'], test_data['Sentiment'])"
      ],
      "execution_count": null,
      "outputs": [
        {
          "output_type": "display_data",
          "data": {
            "image/png": "[encoded data removed]",
            "text/plain": [
              "<Figure size 432x288 with 2 Axes>"
            ]
          },
          "metadata": {
            "tags": [],
            "needs_background": "light"
          }
        }
      ]
    },
    {
      "cell_type": "code",
      "metadata": {
        "id": "iG1flB4PVghS"
      },
      "source": [
        "from sklearn.metrics import classification_report"
      ],
      "execution_count": null,
      "outputs": []
    },
    {
      "cell_type": "code",
      "metadata": {
        "id": "uO0_5dD9VirT",
        "outputId": "74c504c6-70b8-4ef5-d088-e137c5531d54",
        "colab": {
          "base_uri": "https://localhost:8080/",
          "height": 170
        }
      },
      "source": [
        "print(classification_report(test_data['Sentiment'], test_data['pred'], labels=[0,1]))"
      ],
      "execution_count": null,
      "outputs": [
        {
          "output_type": "stream",
          "text": [
            "              precision    recall  f1-score   support\n",
            "\n",
            "           0       0.65      0.74      0.69       754\n",
            "           1       0.83      0.76      0.79      1273\n",
            "\n",
            "    accuracy                           0.75      2027\n",
            "   macro avg       0.74      0.75      0.74      2027\n",
            "weighted avg       0.76      0.75      0.76      2027\n",
            "\n"
          ],
          "name": "stdout"
        }
      ]
    }
  ]
}